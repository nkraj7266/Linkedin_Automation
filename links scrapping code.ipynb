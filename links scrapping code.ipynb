{
 "cells": [
  {
   "cell_type": "code",
   "execution_count": 3,
   "id": "d71bc638",
   "metadata": {},
   "outputs": [],
   "source": [
    "import queue\n",
    "import requests, time, random\n",
    "from bs4 import BeautifulSoup\n",
    "from selenium import webdriver\n",
    "from selenium.webdriver.common.by import By"
   ]
  },
  {
   "cell_type": "code",
   "execution_count": 5,
   "id": "b69baf36",
   "metadata": {},
   "outputs": [
    {
     "name": "stderr",
     "output_type": "stream",
     "text": [
      "C:\\Users\\welcom\\AppData\\Local\\Temp\\ipykernel_20768\\268423899.py:1: DeprecationWarning: executable_path has been deprecated, please pass in a Service object\n",
      "  browser = webdriver.Chrome('driver/chromedriver.exe')\n"
     ]
    }
   ],
   "source": [
    "browser = webdriver.Chrome('driver/chromedriver.exe')\n",
    "browser.get('https://www.linkedin.com//uas/login')\n",
    "username = 'tnishita04@gmail.com'\n",
    "password = '$iambatman'\n",
    "\n",
    "elementID = browser.find_element(By.ID, \"username\")\n",
    "elementID.send_keys(username)\n",
    "\n",
    "elementID = browser.find_element(By.ID, \"password\")\n",
    "elementID.send_keys(password)\n",
    "\n",
    "log_in_button = browser.find_element(By.CLASS_NAME, 'login__form_action_container')\n",
    "log_in_button.click()"
   ]
  },
  {
   "cell_type": "code",
   "execution_count": 3,
   "id": "95fe9c01",
   "metadata": {},
   "outputs": [],
   "source": [
    "link = 'https://www.linkedin.com/school/indian-institute-of-technology-kanpur/people/?educationStartYear=2010&facetCurrentCompany=1441'\n",
    "browser.get(link)"
   ]
  },
  {
   "cell_type": "code",
   "execution_count": 12,
   "id": "f9ea67d0",
   "metadata": {},
   "outputs": [],
   "source": [
    "SCROLL_PAUSE_TIME = 5\n",
    "\n",
    "#Get scroll height\n",
    "last_height = browser.execute_script(\"return document.body.scrollHeight\")\n",
    "\n",
    "for i in range(3):\n",
    "    # Scroll down to bottom\n",
    "    browser.execute_script(\"window.scrollTo(0, document.body.scrollHeight);\")\n",
    "\n",
    "    # Wait to load page\n",
    "    time.sleep(SCROLL_PAUSE_TIME)\n",
    "\n",
    "    new_height = browser.execute_script(\"return document.body.scrollHeight\")\n",
    "    if new_height == last_height:\n",
    "                break\n",
    "    last_height = new_height"
   ]
  },
  {
   "cell_type": "code",
   "execution_count": 13,
   "id": "4b579f0c",
   "metadata": {},
   "outputs": [],
   "source": [
    "scraped_profiles = []\n",
    "queued_profiles = []\n",
    "\n",
    "def getnewprofIDs(soup, queued_profiles):\n",
    "    profileIDs = []\n",
    "    soup = BeautifulSoup(browser.page_source)\n",
    "    pav = soup.find('div', {'class': 'artdeco-card pv5 pl5 pr1 mt4'})\n",
    "    all_links = pav.findAll('a', {'class': 'app-aware-link link-without-visited-state'})\n",
    "    for link in all_links:\n",
    "        userID = link.get('href')\n",
    "        if((userID not in queued_profiles) and (userID not in scraped_profiles)):\n",
    "            profileIDs.append(userID)\n",
    "    return profileIDs"
   ]
  },
  {
   "cell_type": "code",
   "execution_count": 14,
   "id": "6071f878",
   "metadata": {
    "scrolled": false
   },
   "outputs": [
    {
     "data": {
      "text/plain": [
       "['https://www.linkedin.com/in/shreyas-havaldar-71377b182?miniProfileUrn=urn%3Ali%3Afs_miniProfile%3AACoAACsvOT8BioI1M4gG8fwHs-k4bLkV4tkUs6g',\n",
       " 'https://www.linkedin.com/in/bhanu-prakash-thandu-2505a5106?miniProfileUrn=urn%3Ali%3Afs_miniProfile%3AACoAABrIqRwB97wZhL-uG9P98Jc6t1PDWwxH_Wg',\n",
       " 'https://www.linkedin.com/in/krishnapawan?miniProfileUrn=urn%3Ali%3Afs_miniProfile%3AACoAADI57pcBvpfEt_TuFHwtfIs8dOq6lC-2lf4',\n",
       " 'https://www.linkedin.com/in/irfan--ali?miniProfileUrn=urn%3Ali%3Afs_miniProfile%3AACoAACb-RqoBHMuKjgL8wzCuTIvYyM-7C-Y0L3Y',\n",
       " 'https://www.linkedin.com/in/hiranshgupta?miniProfileUrn=urn%3Ali%3Afs_miniProfile%3AACoAAA-BI7gB5c6b-E3eCXeHNJSp7xYAM32cjqc',\n",
       " 'https://www.linkedin.com/in/abhignya-pampati-785745195?miniProfileUrn=urn%3Ali%3Afs_miniProfile%3AACoAAC3ZjhUB0tUUp-0d6sGGFNNhLn4yz8Jcu5A',\n",
       " 'https://www.linkedin.com/in/vemaganti-amith-vikram-45324aab?miniProfileUrn=urn%3Ali%3Afs_miniProfile%3AACoAABdZ0f8BxgpvG3D4jeDxL957rPmZbfFwGbg',\n",
       " 'https://www.linkedin.com/in/megatron10?miniProfileUrn=urn%3Ali%3Afs_miniProfile%3AACoAACo1QXIBYHvndQWuCjSbcSXH66mUDPb7XCU',\n",
       " 'https://www.linkedin.com/in/ankmind?miniProfileUrn=urn%3Ali%3Afs_miniProfile%3AACoAABtunQABNdiw7w0UBbZgbANclGoHP8DykoA',\n",
       " 'https://www.linkedin.com/in/nisaanth-natarajan-7b4164199?miniProfileUrn=urn%3Ali%3Afs_miniProfile%3AACoAAC55oXgB-HhyJApdnmlSmO5xCb9S_y5i6e8',\n",
       " 'https://www.linkedin.com/in/njlisi?miniProfileUrn=urn%3Ali%3Afs_miniProfile%3AACoAAAUnvMABq6jYARzWd7WA8WYraBEiHFlZhAQ',\n",
       " 'https://www.linkedin.com/in/pragati-modi-9a405a21?miniProfileUrn=urn%3Ali%3Afs_miniProfile%3AACoAAAR07gwBPgzteYB4iG1n2aGADagk6U472Gw',\n",
       " 'https://www.linkedin.com/in/sumanth-culli-646157157?miniProfileUrn=urn%3Ali%3Afs_miniProfile%3AACoAACWTQ9YBMZCxZxYHMffNHeOu8VmwT4y09SA',\n",
       " 'https://www.linkedin.com/in/siddharthtandon1?miniProfileUrn=urn%3Ali%3Afs_miniProfile%3AACoAAAN19i8Bgxh1SvviMcz_hun0Vv4krfbnsw8',\n",
       " 'https://www.linkedin.com/in/agamagarwal?miniProfileUrn=urn%3Ali%3Afs_miniProfile%3AACoAAAfIZesBQbDPlsjNnROPMpSdhl3bWLeX1XY',\n",
       " 'https://www.linkedin.com/in/shiwangi-pasari-a731b2b1?miniProfileUrn=urn%3Ali%3Afs_miniProfile%3AACoAABezKncBFvBYhq0j6mbsLpFWEwsdZuFDNYw',\n",
       " 'https://www.linkedin.com/in/hrishikesh-vaidya?miniProfileUrn=urn%3Ali%3Afs_miniProfile%3AACoAABnJ2_wBSM9ZiBuKyfPdxnAj70ZZF6dYnJU',\n",
       " 'https://www.linkedin.com/in/sudhanshu-chawhan-a83912174?miniProfileUrn=urn%3Ali%3Afs_miniProfile%3AACoAACltEIMB9CBnNmIFT59mOPBuCD7ti-5UDp4',\n",
       " 'https://www.linkedin.com/in/mohammed-atif-khan-09b22b241?miniProfileUrn=urn%3Ali%3Afs_miniProfile%3AACoAADwDFLcBGgZW62R1lERL9T7U9WFesq2_y8Q',\n",
       " 'https://www.linkedin.com/in/sahilmanocha?miniProfileUrn=urn%3Ali%3Afs_miniProfile%3AACoAABaGBcwB-1ww_-6QUBSQ6otAp5OkBbzl6Vc',\n",
       " 'https://www.linkedin.com/in/hima-dureddy?miniProfileUrn=urn%3Ali%3Afs_miniProfile%3AACoAAA74UYIBe_yjF0zAMausJ4M5J668DTvYOW8',\n",
       " 'https://www.linkedin.com/in/samratphatale?miniProfileUrn=urn%3Ali%3Afs_miniProfile%3AACoAAChs8SoB301klGO-or4iwLzsULultlqarz8',\n",
       " 'https://www.linkedin.com/in/paragsaraogi?miniProfileUrn=urn%3Ali%3Afs_miniProfile%3AACoAAAqVa6UBR4wIrvkvhXx5o1RfGMf7IjMMJ4E',\n",
       " 'https://www.linkedin.com/in/saichandd?miniProfileUrn=urn%3Ali%3Afs_miniProfile%3AACoAAB0uckcB5tXbBN349PwpirTDnFm8OZ-UQM0',\n",
       " 'https://www.linkedin.com/in/schegireddy?miniProfileUrn=urn%3Ali%3Afs_miniProfile%3AACoAACRVfSsBQQ9opl-KdSfZ0pmsGWJUhzWU5-w',\n",
       " 'https://www.linkedin.com/in/vinay-guthal-b2778743?miniProfileUrn=urn%3Ali%3Afs_miniProfile%3AACoAAAkxAY8B4sGnBxwpBh_46Y8oCRYrLhX0Lfw',\n",
       " 'https://www.linkedin.com/in/abhinavvishak?miniProfileUrn=urn%3Ali%3Afs_miniProfile%3AACoAAAkgi_IB3WTL1u55QIBS3nJD4PIuEHNFcCU',\n",
       " 'https://www.linkedin.com/in/arvind-chaudhary-1b164b56?miniProfileUrn=urn%3Ali%3Afs_miniProfile%3AACoAAAvXd1UBbqsL83s4taigtPbI-CllEQaOc1Q',\n",
       " 'https://www.linkedin.com/in/sudarshan93?miniProfileUrn=urn%3Ali%3Afs_miniProfile%3AACoAAA-6BjgB3sxIW8yCU05OZD7SBWdHCv9SR_4',\n",
       " 'https://www.linkedin.com/in/mahidhar-kommineni-17a762a6?miniProfileUrn=urn%3Ali%3Afs_miniProfile%3AACoAABaJaG4BcYT3BJX0BP2XuyhNovx6atV93LA',\n",
       " 'https://www.linkedin.com/in/satwik-arawalli-6403641b8?miniProfileUrn=urn%3Ali%3Afs_miniProfile%3AACoAADKZKJAB6buSw7eF0PtKWwV7cv7hQZzWIVU',\n",
       " 'https://www.linkedin.com/in/ankit-singh-995617183?miniProfileUrn=urn%3Ali%3Afs_miniProfile%3AACoAACtW_cEBd18nfotlF6Y57XMI6rpDWoxptn8',\n",
       " 'https://www.linkedin.com/in/apurvanagarajan?miniProfileUrn=urn%3Ali%3Afs_miniProfile%3AACoAAAlW_BQBQraHlduRJOu2Njbjml2ZwVEx87E',\n",
       " 'https://www.linkedin.com/in/navnjoshi?miniProfileUrn=urn%3Ali%3Afs_miniProfile%3AACoAAAx6vyIBcd6NedkDVxlnfXU9tRyyxw34AZM',\n",
       " 'https://www.linkedin.com/in/kalyani-mehetre-77704398?miniProfileUrn=urn%3Ali%3Afs_miniProfile%3AACoAABSmnIsB2qo2WcffaEr8LrbRt64D4igjVKY']"
      ]
     },
     "execution_count": 14,
     "metadata": {},
     "output_type": "execute_result"
    }
   ],
   "source": [
    "links_list = getnewprofIDs(BeautifulSoup(browser.page_source, 'lxml'), queued_profiles)\n",
    "links_list"
   ]
  },
  {
   "cell_type": "code",
   "execution_count": 15,
   "id": "40f37352",
   "metadata": {},
   "outputs": [],
   "source": [
    "del links_list[:]"
   ]
  },
  {
   "cell_type": "code",
   "execution_count": 16,
   "id": "af9f6347",
   "metadata": {
    "scrolled": true
   },
   "outputs": [],
   "source": [
    "scraped_profiles_names = []\n",
    "queued_profiles_names = []\n",
    "\n",
    "def getnewprofnames(soup, queued_profiles_names):\n",
    "    names_list = []\n",
    "    soup = BeautifulSoup(browser.page_source)\n",
    "    pav = soup.find('div', {'class': 'artdeco-card pv5 pl5 pr1 mt4'})\n",
    "    name_div = pav.findAll('div', {'class': 'org-people-profile-card__profile-title t-black lt-line-clamp lt-line-clamp--single-line ember-view'})\n",
    "    for name in name_div:\n",
    "            name_1 = name.get_text().strip()\n",
    "            if((name_1 not in queued_profiles_names) and (name_1 not in scraped_profiles_names)):\n",
    "                names_list.append(name_1)\n",
    "    return names_list"
   ]
  },
  {
   "cell_type": "code",
   "execution_count": 17,
   "id": "9ad64af2",
   "metadata": {},
   "outputs": [
    {
     "name": "stdout",
     "output_type": "stream",
     "text": [
      "Shreyas Havaldar\n",
      "Bhanu Prakash Thandu\n",
      "Krishna Pawan Darapaneni\n",
      "Irfan Ali\n",
      "Hiransh Gupta\n",
      "Abhignya pampati\n",
      "Vemaganti Amith Vikram\n",
      "Sahil Shah\n",
      "Ankush Gupta\n",
      "Nisaanth Natarajan\n",
      "Anjali Singh\n",
      "Pragati Modi\n",
      "Sumanth Culli\n",
      "Siddharth Tandon\n",
      "Agam Agarwal\n",
      "Shiwangi Pasari\n",
      "Hrishikesh Vaidya\n",
      "Sudhanshu Chawhan\n",
      "Mohammed Atif Khan\n",
      "Sahil Manocha\n",
      "Hima Varsha Dureddy\n",
      "Samrat Phatale\n",
      "Parag Saraogi\n",
      "Sai Chand Duppala\n",
      "SREEKAR CHEGIREDDY\n",
      "Vinay Guthal\n",
      "Abhinav Iyappan\n",
      "Arvind Chaudhary\n",
      "Sudarshan Srinivasan\n",
      "Mahidhar Kommineni\n",
      "Satwik Arawalli\n",
      "Ankit Singh\n",
      "Apurva N.\n",
      "Navneet Joshi\n",
      "Kalyani Mehetre\n"
     ]
    }
   ],
   "source": [
    "names_list = getnewprofnames(BeautifulSoup(browser.page_source, 'lxml'), queued_profiles_names)\n",
    "for name in names_list:\n",
    "    print(name)"
   ]
  },
  {
   "cell_type": "code",
   "execution_count": 36,
   "id": "90b1ec10",
   "metadata": {},
   "outputs": [],
   "source": [
    "del names_list[:]"
   ]
  },
  {
   "cell_type": "code",
   "execution_count": null,
   "id": "bc5f66a8",
   "metadata": {},
   "outputs": [],
   "source": []
  },
  {
   "cell_type": "code",
   "execution_count": null,
   "id": "f6bdc1a8",
   "metadata": {},
   "outputs": [],
   "source": []
  }
 ],
 "metadata": {
  "kernelspec": {
   "display_name": "Python 3 (ipykernel)",
   "language": "python",
   "name": "python3"
  },
  "language_info": {
   "codemirror_mode": {
    "name": "ipython",
    "version": 3
   },
   "file_extension": ".py",
   "mimetype": "text/x-python",
   "name": "python",
   "nbconvert_exporter": "python",
   "pygments_lexer": "ipython3",
   "version": "3.9.12"
  }
 },
 "nbformat": 4,
 "nbformat_minor": 5
}
