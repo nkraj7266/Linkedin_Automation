{
 "cells": [
  {
   "cell_type": "code",
   "execution_count": 21,
   "id": "9ba501b5",
   "metadata": {},
   "outputs": [],
   "source": [
    "queued_profiles = []\n",
    "links_list =[]"
   ]
  },
  {
   "cell_type": "code",
   "execution_count": 22,
   "id": "ced118d9",
   "metadata": {},
   "outputs": [],
   "source": [
    "for link in queued_profiles:\n",
    "    link_1 = 'https://www.linkedin.com' + link\n",
    "    print(link_1)\n",
    "#     print(link)"
   ]
  },
  {
   "cell_type": "code",
   "execution_count": 50,
   "id": "0a47dfa3",
   "metadata": {},
   "outputs": [],
   "source": []
  }
 ],
 "metadata": {
  "kernelspec": {
   "display_name": "Python 3 (ipykernel)",
   "language": "python",
   "name": "python3"
  },
  "language_info": {
   "codemirror_mode": {
    "name": "ipython",
    "version": 3
   },
   "file_extension": ".py",
   "mimetype": "text/x-python",
   "name": "python",
   "nbconvert_exporter": "python",
   "pygments_lexer": "ipython3",
   "version": "3.9.12"
  }
 },
 "nbformat": 4,
 "nbformat_minor": 5
}
