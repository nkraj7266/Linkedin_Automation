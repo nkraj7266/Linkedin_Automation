{
 "cells": [
  {
   "cell_type": "code",
   "execution_count": 5,
   "id": "14fb314b",
   "metadata": {},
   "outputs": [],
   "source": [
    "linksList = ['https://www.linkedin.com/in/shreyas-havaldar-71377b182?miniProfileUrn=urn%3Ali%3Afs_miniProfile%3AACoAACsvOT8BioI1M4gG8fwHs-k4bLkV4tkUs6g',\n",
    " 'https://www.linkedin.com/in/bhanu-prakash-thandu-2505a5106?miniProfileUrn=urn%3Ali%3Afs_miniProfile%3AACoAABrIqRwB97wZhL-uG9P98Jc6t1PDWwxH_Wg',\n",
    " 'https://www.linkedin.com/in/krishnapawan?miniProfileUrn=urn%3Ali%3Afs_miniProfile%3AACoAADI57pcBvpfEt_TuFHwtfIs8dOq6lC-2lf4',\n",
    " 'https://www.linkedin.com/in/irfan--ali?miniProfileUrn=urn%3Ali%3Afs_miniProfile%3AACoAACb-RqoBHMuKjgL8wzCuTIvYyM-7C-Y0L3Y',\n",
    " 'https://www.linkedin.com/in/hiranshgupta?miniProfileUrn=urn%3Ali%3Afs_miniProfile%3AACoAAA-BI7gB5c6b-E3eCXeHNJSp7xYAM32cjqc',\n",
    " 'https://www.linkedin.com/in/abhignya-pampati-785745195?miniProfileUrn=urn%3Ali%3Afs_miniProfile%3AACoAAC3ZjhUB0tUUp-0d6sGGFNNhLn4yz8Jcu5A',\n",
    " 'https://www.linkedin.com/in/vemaganti-amith-vikram-45324aab?miniProfileUrn=urn%3Ali%3Afs_miniProfile%3AACoAABdZ0f8BxgpvG3D4jeDxL957rPmZbfFwGbg',\n",
    " 'https://www.linkedin.com/in/megatron10?miniProfileUrn=urn%3Ali%3Afs_miniProfile%3AACoAACo1QXIBYHvndQWuCjSbcSXH66mUDPb7XCU',\n",
    " 'https://www.linkedin.com/in/ankmind?miniProfileUrn=urn%3Ali%3Afs_miniProfile%3AACoAABtunQABNdiw7w0UBbZgbANclGoHP8DykoA',\n",
    " 'https://www.linkedin.com/in/nisaanth-natarajan-7b4164199?miniProfileUrn=urn%3Ali%3Afs_miniProfile%3AACoAAC55oXgB-HhyJApdnmlSmO5xCb9S_y5i6e8',\n",
    " 'https://www.linkedin.com/in/njlisi?miniProfileUrn=urn%3Ali%3Afs_miniProfile%3AACoAAAUnvMABq6jYARzWd7WA8WYraBEiHFlZhAQ',\n",
    " 'https://www.linkedin.com/in/pragati-modi-9a405a21?miniProfileUrn=urn%3Ali%3Afs_miniProfile%3AACoAAAR07gwBPgzteYB4iG1n2aGADagk6U472Gw',\n",
    " 'https://www.linkedin.com/in/sumanth-culli-646157157?miniProfileUrn=urn%3Ali%3Afs_miniProfile%3AACoAACWTQ9YBMZCxZxYHMffNHeOu8VmwT4y09SA',\n",
    " 'https://www.linkedin.com/in/siddharthtandon1?miniProfileUrn=urn%3Ali%3Afs_miniProfile%3AACoAAAN19i8Bgxh1SvviMcz_hun0Vv4krfbnsw8',\n",
    " 'https://www.linkedin.com/in/agamagarwal?miniProfileUrn=urn%3Ali%3Afs_miniProfile%3AACoAAAfIZesBQbDPlsjNnROPMpSdhl3bWLeX1XY',\n",
    " 'https://www.linkedin.com/in/shiwangi-pasari-a731b2b1?miniProfileUrn=urn%3Ali%3Afs_miniProfile%3AACoAABezKncBFvBYhq0j6mbsLpFWEwsdZuFDNYw',\n",
    " 'https://www.linkedin.com/in/hrishikesh-vaidya?miniProfileUrn=urn%3Ali%3Afs_miniProfile%3AACoAABnJ2_wBSM9ZiBuKyfPdxnAj70ZZF6dYnJU',\n",
    " 'https://www.linkedin.com/in/sudhanshu-chawhan-a83912174?miniProfileUrn=urn%3Ali%3Afs_miniProfile%3AACoAACltEIMB9CBnNmIFT59mOPBuCD7ti-5UDp4',\n",
    " 'https://www.linkedin.com/in/mohammed-atif-khan-09b22b241?miniProfileUrn=urn%3Ali%3Afs_miniProfile%3AACoAADwDFLcBGgZW62R1lERL9T7U9WFesq2_y8Q',\n",
    " 'https://www.linkedin.com/in/sahilmanocha?miniProfileUrn=urn%3Ali%3Afs_miniProfile%3AACoAABaGBcwB-1ww_-6QUBSQ6otAp5OkBbzl6Vc',\n",
    " 'https://www.linkedin.com/in/hima-dureddy?miniProfileUrn=urn%3Ali%3Afs_miniProfile%3AACoAAA74UYIBe_yjF0zAMausJ4M5J668DTvYOW8',\n",
    " 'https://www.linkedin.com/in/samratphatale?miniProfileUrn=urn%3Ali%3Afs_miniProfile%3AACoAAChs8SoB301klGO-or4iwLzsULultlqarz8',\n",
    " 'https://www.linkedin.com/in/paragsaraogi?miniProfileUrn=urn%3Ali%3Afs_miniProfile%3AACoAAAqVa6UBR4wIrvkvhXx5o1RfGMf7IjMMJ4E',\n",
    " 'https://www.linkedin.com/in/saichandd?miniProfileUrn=urn%3Ali%3Afs_miniProfile%3AACoAAB0uckcB5tXbBN349PwpirTDnFm8OZ-UQM0',\n",
    " 'https://www.linkedin.com/in/schegireddy?miniProfileUrn=urn%3Ali%3Afs_miniProfile%3AACoAACRVfSsBQQ9opl-KdSfZ0pmsGWJUhzWU5-w',\n",
    " 'https://www.linkedin.com/in/vinay-guthal-b2778743?miniProfileUrn=urn%3Ali%3Afs_miniProfile%3AACoAAAkxAY8B4sGnBxwpBh_46Y8oCRYrLhX0Lfw',\n",
    " 'https://www.linkedin.com/in/abhinavvishak?miniProfileUrn=urn%3Ali%3Afs_miniProfile%3AACoAAAkgi_IB3WTL1u55QIBS3nJD4PIuEHNFcCU',\n",
    " 'https://www.linkedin.com/in/arvind-chaudhary-1b164b56?miniProfileUrn=urn%3Ali%3Afs_miniProfile%3AACoAAAvXd1UBbqsL83s4taigtPbI-CllEQaOc1Q',\n",
    " 'https://www.linkedin.com/in/sudarshan93?miniProfileUrn=urn%3Ali%3Afs_miniProfile%3AACoAAA-6BjgB3sxIW8yCU05OZD7SBWdHCv9SR_4',\n",
    " 'https://www.linkedin.com/in/mahidhar-kommineni-17a762a6?miniProfileUrn=urn%3Ali%3Afs_miniProfile%3AACoAABaJaG4BcYT3BJX0BP2XuyhNovx6atV93LA',\n",
    " 'https://www.linkedin.com/in/satwik-arawalli-6403641b8?miniProfileUrn=urn%3Ali%3Afs_miniProfile%3AACoAADKZKJAB6buSw7eF0PtKWwV7cv7hQZzWIVU',\n",
    " 'https://www.linkedin.com/in/ankit-singh-995617183?miniProfileUrn=urn%3Ali%3Afs_miniProfile%3AACoAACtW_cEBd18nfotlF6Y57XMI6rpDWoxptn8',\n",
    " 'https://www.linkedin.com/in/apurvanagarajan?miniProfileUrn=urn%3Ali%3Afs_miniProfile%3AACoAAAlW_BQBQraHlduRJOu2Njbjml2ZwVEx87E',\n",
    " 'https://www.linkedin.com/in/navnjoshi?miniProfileUrn=urn%3Ali%3Afs_miniProfile%3AACoAAAx6vyIBcd6NedkDVxlnfXU9tRyyxw34AZM',\n",
    " 'https://www.linkedin.com/in/kalyani-mehetre-77704398?miniProfileUrn=urn%3Ali%3Afs_miniProfile%3AACoAABSmnIsB2qo2WcffaEr8LrbRt64D4igjVKY']\n",
    "correctList = []"
   ]
  },
  {
   "cell_type": "code",
   "execution_count": 6,
   "id": "327630af",
   "metadata": {},
   "outputs": [],
   "source": [
    "for link in linksList:\n",
    "    listOfPureLink = link.split(\"?\", 1)\n",
    "    correctList.append(listOfPureLink[0])"
   ]
  },
  {
   "cell_type": "code",
   "execution_count": 7,
   "id": "97daba52",
   "metadata": {},
   "outputs": [
    {
     "name": "stdout",
     "output_type": "stream",
     "text": [
      "https://www.linkedin.com/in/shreyas-havaldar-71377b182\n",
      "https://www.linkedin.com/in/bhanu-prakash-thandu-2505a5106\n",
      "https://www.linkedin.com/in/krishnapawan\n",
      "https://www.linkedin.com/in/irfan--ali\n",
      "https://www.linkedin.com/in/hiranshgupta\n",
      "https://www.linkedin.com/in/abhignya-pampati-785745195\n",
      "https://www.linkedin.com/in/vemaganti-amith-vikram-45324aab\n",
      "https://www.linkedin.com/in/megatron10\n",
      "https://www.linkedin.com/in/ankmind\n",
      "https://www.linkedin.com/in/nisaanth-natarajan-7b4164199\n",
      "https://www.linkedin.com/in/njlisi\n",
      "https://www.linkedin.com/in/pragati-modi-9a405a21\n",
      "https://www.linkedin.com/in/sumanth-culli-646157157\n",
      "https://www.linkedin.com/in/siddharthtandon1\n",
      "https://www.linkedin.com/in/agamagarwal\n",
      "https://www.linkedin.com/in/shiwangi-pasari-a731b2b1\n",
      "https://www.linkedin.com/in/hrishikesh-vaidya\n",
      "https://www.linkedin.com/in/sudhanshu-chawhan-a83912174\n",
      "https://www.linkedin.com/in/mohammed-atif-khan-09b22b241\n",
      "https://www.linkedin.com/in/sahilmanocha\n",
      "https://www.linkedin.com/in/hima-dureddy\n",
      "https://www.linkedin.com/in/samratphatale\n",
      "https://www.linkedin.com/in/paragsaraogi\n",
      "https://www.linkedin.com/in/saichandd\n",
      "https://www.linkedin.com/in/schegireddy\n",
      "https://www.linkedin.com/in/vinay-guthal-b2778743\n",
      "https://www.linkedin.com/in/abhinavvishak\n",
      "https://www.linkedin.com/in/arvind-chaudhary-1b164b56\n",
      "https://www.linkedin.com/in/sudarshan93\n",
      "https://www.linkedin.com/in/mahidhar-kommineni-17a762a6\n",
      "https://www.linkedin.com/in/satwik-arawalli-6403641b8\n",
      "https://www.linkedin.com/in/ankit-singh-995617183\n",
      "https://www.linkedin.com/in/apurvanagarajan\n",
      "https://www.linkedin.com/in/navnjoshi\n",
      "https://www.linkedin.com/in/kalyani-mehetre-77704398\n"
     ]
    }
   ],
   "source": [
    "for link in correctList:\n",
    "    print(link)\n",
    "# correctList"
   ]
  },
  {
   "cell_type": "code",
   "execution_count": null,
   "id": "91480a6e",
   "metadata": {},
   "outputs": [],
   "source": []
  },
  {
   "cell_type": "code",
   "execution_count": null,
   "id": "4e919d67",
   "metadata": {},
   "outputs": [],
   "source": []
  }
 ],
 "metadata": {
  "kernelspec": {
   "display_name": "Python 3 (ipykernel)",
   "language": "python",
   "name": "python3"
  },
  "language_info": {
   "codemirror_mode": {
    "name": "ipython",
    "version": 3
   },
   "file_extension": ".py",
   "mimetype": "text/x-python",
   "name": "python",
   "nbconvert_exporter": "python",
   "pygments_lexer": "ipython3",
   "version": "3.9.12"
  }
 },
 "nbformat": 4,
 "nbformat_minor": 5
}
